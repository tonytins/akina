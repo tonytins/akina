{
  "cells": [
    {
      "cell_type": "markdown",
      "metadata": {},
      "source": [
        "# Akina Word Generator\n",
        "\n",
        "This is a basic word generator to help speed up creating new words based on my language's current spec."
      ]
    },
    {
      "cell_type": "code",
      "execution_count": 1,
      "metadata": {
        "dotnet_interactive": {
          "language": "csharp"
        }
      },
      "source": [
        "using System.Collections.Generic;\n",
        "using System.Linq;"
      ],
      "outputs": []
    },
    {
      "cell_type": "code",
      "execution_count": 1,
      "metadata": {
        "dotnet_interactive": {
          "language": "csharp"
        }
      },
      "source": [
        "string SuffixTrimmer(string word)\n",
        "{\n",
        "    var suffixes =  new string[] { \"ta\", \"won\", \"lu\", \n",
        "    \"ot\", \"li\", \"os\" };\n",
        "\n",
        "    foreach(var suffix in suffixes)\n",
        "        if (word.EndsWith(suffix))\n",
        "            return word.TrimEnd(suffix.ToCharArray());\n",
        "\n",
        "    return word;\n",
        "}\n",
        "\n",
        "string RngLetters(string letters)\n",
        "{\n",
        "    var rng = new Random();\n",
        "    return new string(Enumerable.Repeat(letters, 1)\n",
        "        .Select(s => s[rng.Next(s.Length)])\n",
        "        .ToArray());\n",
        "}\n",
        "\n",
        "string RngMoras(string[] moras)\n",
        "{\n",
        "    var rng = new Random();\n",
        "    return moras[rng.Next(moras.Length)];\n",
        "}\n",
        "\n",
        "string CVCV(string[] moras, string vowels)\n",
        "{\n",
        "    var rng = new Random();\n",
        "    \n",
        "    if (rng.NextDouble() > 0.5)\n",
        "        return $\"{RngLetters(vowels)}{RngMoras(moras)}{RngMoras(moras)}\";\n",
        "\n",
        "    return $\"{RngMoras(moras)}{RngMoras(moras)}\";\n",
        "}\n",
        "\n",
        "string CVCVCV(string[] moras, string vowels)\n",
        "{\n",
        "    var rng = new Random();\n",
        "    \n",
        "    if (rng.NextDouble() > 0.5)\n",
        "        return $\"{RngLetters(vowels)}{RngMoras(moras)}{RngMoras(moras)}{RngMoras(moras)}\";\n",
        "\n",
        "    return $\"{RngMoras(moras)}{RngMoras(moras)}{RngMoras(moras)}\";\n",
        "}"
      ],
      "outputs": []
    },
    {
      "cell_type": "code",
      "execution_count": 1,
      "metadata": {
        "dotnet_interactive": {
          "language": "csharp"
        }
      },
      "source": [
        "var moras = new[] { \n",
        "    \"da\", \"de\", \"do\", \"du\",\n",
        "    \"ga\", \"ge\", \"go\", \"gu\", \n",
        "    \"ya\", \"ye\", \"yo\", \"yu\",\n",
        "    \"ma\", \"me\", \"mo\", \"mu\",\n",
        "    \"na\", \"ne\", \"no\", \"nu\",\n",
        "    \"pa\", \"pe\", \"po\", \"pu\", \n",
        "    \"wa\", \"we\", \"wo\", \"wu\",\n",
        "    \"ta\", \"te\", \"to\", \"tu\",\n",
        "    \"za\", \"ze\", \"zo\", \"zu\" };\n",
        "var vowels = \"aeou\";\n",
        "var FirstSet = new[] { \n",
        "    CVCV(moras, vowels),\n",
        "    CVCVCV(moras, vowels),\n",
        "    CVCV(moras, vowels),\n",
        "    CVCVCV(moras, vowels),\n",
        "    CVCV(moras, vowels),\n",
        "    CVCVCV(moras, vowels),\n",
        "    CVCV(moras, vowels),\n",
        "    CVCVCV(moras, vowels),\n",
        "};\n",
        "var SecondSet = new[] {\n",
        "    CVCVCV(moras, vowels),\n",
        "    CVCV(moras, vowels),\n",
        "    CVCVCV(moras, vowels),\n",
        "    CVCV(moras, vowels),\n",
        "    CVCVCV(moras, vowels),\n",
        "    CVCV(moras, vowels),\n",
        "    CVCVCV(moras, vowels),\n",
        "    CVCV(moras, vowels),\n",
        "};\n",
        "var ThirdSet = new[] {\n",
        "    RngMoras(moras),\n",
        "    RngMoras(moras),\n",
        "    RngMoras(moras),\n",
        "    RngMoras(moras),\n",
        "    RngMoras(moras),\n",
        "    RngMoras(moras),\n",
        "};"
      ],
      "outputs": []
    },
    {
      "cell_type": "code",
      "execution_count": 1,
      "metadata": {
        "dotnet_interactive": {
          "language": "csharp"
        }
      },
      "source": [
        "foreach (var word in FirstSet)\n",
        "    Console.WriteLine(word);"
      ],
      "outputs": []
    },
    {
      "cell_type": "code",
      "execution_count": 1,
      "metadata": {
        "dotnet_interactive": {
          "language": "csharp"
        }
      },
      "source": [
        "foreach (var word in SecondSet)\n",
        "    Console.WriteLine(word);"
      ],
      "outputs": []
    },
    {
      "cell_type": "code",
      "execution_count": 1,
      "metadata": {
        "dotnet_interactive": {
          "language": "csharp"
        }
      },
      "source": [
        "foreach (var word in ThirdSet)\n",
        "    Console.WriteLine(word);"
      ],
      "outputs": []
    }
  ],
  "metadata": {
    "kernelspec": {
      "display_name": ".NET (C#)",
      "language": "C#",
      "name": ".net-csharp"
    },
    "language_info": {
      "file_extension": ".cs",
      "mimetype": "text/x-csharp",
      "name": "C#",
      "pygments_lexer": "csharp",
      "version": "8.0"
    }
  },
  "nbformat": 4,
  "nbformat_minor": 4
}