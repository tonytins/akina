{
 "cells": [
  {
   "cell_type": "markdown",
   "metadata": {},
   "source": [
    "# Akina Word Generator\n",
    "\n",
    "This is a basic word generator to help speed up creating new words based on my language's current spec."
   ]
  },
  {
   "cell_type": "code",
   "execution_count": 1,
   "metadata": {},
   "source": [
    "using System.Collections.Generic;\n",
    "using System.Linq;"
   ],
   "outputs": []
  },
  {
   "cell_type": "code",
   "execution_count": 1,
   "metadata": {},
   "source": [
    "string SuffixTrimmer(string word)\n",
    "{\n",
    "    var suffixes =  new string[] { \"ta\", \"won\", \"lu\", \n",
    "    \"ot\", \"li\", \"os\" };\n",
    "\n",
    "    foreach(var suffix in suffixes)\n",
    "        if (word.EndsWith(suffix))\n",
    "            return word.TrimEnd(suffix.ToCharArray());\n",
    "\n",
    "    return word;\n",
    "}\n",
    "\n",
    "string RngLetters(string letters)\n",
    "{\n",
    "    var rng = new Random();\n",
    "    return new string(Enumerable.Repeat(letters, 1)\n",
    "        .Select(s => s[rng.Next(s.Length)])\n",
    "        .ToArray());\n",
    "}\n",
    "\n",
    "string CV(string constants, string vowels)\n",
    "{\n",
    "    var rng = new Random();\n",
    "    \n",
    "    if (rng.NextDouble() > 0.5)\n",
    "        return $\"{RngLetters(vowels)}{RngLetters(constants)}\";\n",
    "\n",
    "    return $\"{RngLetters(constants)}{RngLetters(vowels)}\";\n",
    "}\n",
    "\n",
    "string CVC(string constants, string vowels, string midVowels)\n",
    "{\n",
    "    var rng = new Random();\n",
    "\n",
    "    if (rng.NextDouble() > 0.5)\n",
    "        return $\"{RngLetters(constants)}{RngLetters(vowels)}{RngLetters(constants)}\";\n",
    "\n",
    "    return $\"{RngLetters(constants)}{RngLetters(vowels)}{RngLetters(constants)}\";\n",
    "}\n",
    "\n",
    "string CVCVCCV(string constants, string vowels)\n",
    "{\n",
    "    return $\"{RngLetters(constants)}{RngLetters(vowels)}{RngLetters(constants)}\" +\n",
    "    $\"{RngLetters(vowels)}{RngLetters(constants)}{RngLetters(vowels)}{RngLetters(constants)}\";\n",
    "}\n",
    "\n",
    "string CVCV(string constants, string vowels, string endVowels)\n",
    "{\n",
    "    var rng = new Random();\n",
    "\n",
    "    if (rng.NextDouble() < 0.5)\n",
    "        return SuffixTrimmer($\"{RngLetters(vowels)}{RngLetters(constants)}{RngLetters(endVowels)}\");\n",
    "\n",
    "    return SuffixTrimmer($\"{RngLetters(constants)}{RngLetters(vowels)}{RngLetters(constants)}{RngLetters(endVowels)}\");\n",
    "}"
   ],
   "outputs": []
  },
  {
   "cell_type": "code",
   "execution_count": 1,
   "metadata": {},
   "source": [
    "var constants = \"fghklmnprtcvjbd\";\n",
    "var suffxConst = \"tkls\";\n",
    "var allVowels = \"aáioóu\";\n",
    "var endVowels = \"áó\";\n",
    "var baseVowels = \"aiou\";\n",
    "var FirstSet = new[] { \n",
    "    CVCV(constants, baseVowels, allVowels),\n",
    "    CVCV(constants, baseVowels, endVowels),\n",
    "    CVCV(constants, baseVowels, allVowels),\n",
    "    CVCV(constants, baseVowels, endVowels),\n",
    "};\n",
    "var SecondSet = new[] {\n",
    "    $\"{CV(suffxConst, baseVowels)}{CVCV(constants, baseVowels, allVowels)}\",\n",
    "    $\"{CV(suffxConst, baseVowels)}{CVCV(constants, baseVowels, endVowels)}\",\n",
    "    $\"{CV(suffxConst, baseVowels)}{CVCV(constants, baseVowels, allVowels)}\",\n",
    "    $\"{CV(suffxConst, baseVowels)}{CVCV(constants, baseVowels, endVowels)}\",\n",
    "};"
   ],
   "outputs": []
  },
  {
   "cell_type": "code",
   "execution_count": 1,
   "metadata": {},
   "source": [
    "foreach (var word in FirstSet)\n",
    "    Console.WriteLine(word);"
   ],
   "outputs": [
    {
     "output_type": "execute_result",
     "data": {
      "text/plain": "igá\r\n"
     },
     "execution_count": 1,
     "metadata": {}
    },
    {
     "output_type": "execute_result",
     "data": {
      "text/plain": "ragá\r\n"
     },
     "execution_count": 1,
     "metadata": {}
    },
    {
     "output_type": "execute_result",
     "data": {
      "text/plain": "ami\r\n"
     },
     "execution_count": 1,
     "metadata": {}
    },
    {
     "output_type": "execute_result",
     "data": {
      "text/plain": "ucó\r\n"
     },
     "execution_count": 1,
     "metadata": {}
    }
   ]
  },
  {
   "cell_type": "code",
   "execution_count": 1,
   "metadata": {},
   "source": [
    "foreach (var word in SecondSet)\n",
    "    Console.WriteLine(word);"
   ],
   "outputs": [
    {
     "output_type": "execute_result",
     "data": {
      "text/plain": "ulato\r\n"
     },
     "execution_count": 1,
     "metadata": {}
    },
    {
     "output_type": "execute_result",
     "data": {
      "text/plain": "toamá\r\n"
     },
     "execution_count": 1,
     "metadata": {}
    },
    {
     "output_type": "execute_result",
     "data": {
      "text/plain": "saaci\r\n"
     },
     "execution_count": 1,
     "metadata": {}
    },
    {
     "output_type": "execute_result",
     "data": {
      "text/plain": "kairá\r\n"
     },
     "execution_count": 1,
     "metadata": {}
    }
   ]
  },
  {
   "cell_type": "code",
   "execution_count": 1,
   "metadata": {},
   "source": [
    "var vowels = allVowels.ToCharArray();\n",
    "\n",
    "foreach (var first in FirstSet)\n",
    "{\n",
    "    foreach (var second in SecondSet)\n",
    "    {\n",
    "        var newSecond = second;\n",
    "\n",
    "        foreach (var vowel in vowels)\n",
    "            if (second.StartsWith(vowel))\n",
    "                newSecond = second.TrimStart(vowel);\n",
    "        \n",
    "        Console.WriteLine($\"{first}{newSecond}\");\n",
    "    }\n",
    "}"
   ],
   "outputs": [
    {
     "output_type": "execute_result",
     "data": {
      "text/plain": "igálato\r\n"
     },
     "execution_count": 1,
     "metadata": {}
    },
    {
     "output_type": "execute_result",
     "data": {
      "text/plain": "igátoamá\r\n"
     },
     "execution_count": 1,
     "metadata": {}
    },
    {
     "output_type": "execute_result",
     "data": {
      "text/plain": "igásaaci\r\n"
     },
     "execution_count": 1,
     "metadata": {}
    },
    {
     "output_type": "execute_result",
     "data": {
      "text/plain": "igákairá\r\n"
     },
     "execution_count": 1,
     "metadata": {}
    },
    {
     "output_type": "execute_result",
     "data": {
      "text/plain": "ragálato\r\n"
     },
     "execution_count": 1,
     "metadata": {}
    },
    {
     "output_type": "execute_result",
     "data": {
      "text/plain": "ragátoamá\r\n"
     },
     "execution_count": 1,
     "metadata": {}
    },
    {
     "output_type": "execute_result",
     "data": {
      "text/plain": "ragásaaci\r\n"
     },
     "execution_count": 1,
     "metadata": {}
    },
    {
     "output_type": "execute_result",
     "data": {
      "text/plain": "ragákairá\r\n"
     },
     "execution_count": 1,
     "metadata": {}
    },
    {
     "output_type": "execute_result",
     "data": {
      "text/plain": "amilato\r\n"
     },
     "execution_count": 1,
     "metadata": {}
    },
    {
     "output_type": "execute_result",
     "data": {
      "text/plain": "amitoamá\r\n"
     },
     "execution_count": 1,
     "metadata": {}
    },
    {
     "output_type": "execute_result",
     "data": {
      "text/plain": "amisaaci\r\n"
     },
     "execution_count": 1,
     "metadata": {}
    },
    {
     "output_type": "execute_result",
     "data": {
      "text/plain": "amikairá\r\n"
     },
     "execution_count": 1,
     "metadata": {}
    },
    {
     "output_type": "execute_result",
     "data": {
      "text/plain": "ucólato\r\n"
     },
     "execution_count": 1,
     "metadata": {}
    },
    {
     "output_type": "execute_result",
     "data": {
      "text/plain": "ucótoamá\r\n"
     },
     "execution_count": 1,
     "metadata": {}
    },
    {
     "output_type": "execute_result",
     "data": {
      "text/plain": "ucósaaci\r\n"
     },
     "execution_count": 1,
     "metadata": {}
    },
    {
     "output_type": "execute_result",
     "data": {
      "text/plain": "ucókairá\r\n"
     },
     "execution_count": 1,
     "metadata": {}
    }
   ]
  }
 ],
 "metadata": {
  "kernelspec": {
   "display_name": ".NET (C#)",
   "language": "C#",
   "name": ".net-csharp"
  },
  "language_info": {
   "file_extension": ".cs",
   "mimetype": "text/x-csharp",
   "name": "C#",
   "pygments_lexer": "csharp",
   "version": "8.0"
  }
 },
 "nbformat": 4,
 "nbformat_minor": 4
}