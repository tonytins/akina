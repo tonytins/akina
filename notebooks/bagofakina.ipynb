{
 "cells": [
  {
   "cell_type": "code",
   "execution_count": 1,
   "metadata": {},
   "source": [
    "#r \"nuget:Microsoft.ML,1.5.2\""
   ],
   "outputs": []
  },
  {
   "cell_type": "code",
   "execution_count": 1,
   "metadata": {},
   "source": [
    "using System;\n",
    "using System.Collections.Generic;\n",
    "using Microsoft.ML;\n",
    "using Microsoft.ML.Data;"
   ],
   "outputs": []
  },
  {
   "cell_type": "code",
   "execution_count": 1,
   "metadata": {},
   "source": [
    "class Input \n",
    "{\n",
    "    public string Text { get; set; }\n",
    "}\n",
    "\n",
    "class Output\n",
    "{\n",
    "    public float[] BagOfWords { get; set; }\n",
    "}"
   ],
   "outputs": []
  },
  {
   "cell_type": "code",
   "execution_count": 1,
   "metadata": {},
   "source": [
    "var ctx = new MLContext();"
   ],
   "outputs": []
  },
  {
   "cell_type": "code",
   "execution_count": 1,
   "metadata": {},
   "source": [
    "var data = new List<Input>\n",
    "{\n",
    "    new Input { Text = \"I enjoy ML.NET, and I really like it.\" }\n",
    "};"
   ],
   "outputs": []
  },
  {
   "cell_type": "code",
   "execution_count": 1,
   "metadata": {},
   "source": [
    "var dataView = ctx.Data.LoadFromEnumerable(data);\n",
    "var pipeline = ctx.Transforms.Text.ProduceWordBags(\n",
    "    \"BagOfWords\",\n",
    "    \"Text\",\n",
    "    ngramLength: 1,\n",
    "    useAllLengths: false,\n",
    "    weighting: NgramExtractingEstimator.WeightingCriteria.Tf\n",
    ");\n",
    "var fit = pipeline.Fit(dataView);\n",
    "var transform = fit.Transform(dataView);\n",
    "var engine = ctx.Model.CreatePredictionEngine<Input, Output>(fit);\n",
    "var predict = engine.Predict(data[0]);"
   ],
   "outputs": []
  },
  {
   "cell_type": "code",
   "execution_count": 1,
   "metadata": {},
   "source": [
    "VBuffer<ReadOnlyMemory<char>> slotNames = default;\n",
    "transform.Schema[\"BagOfWords\"].GetSlotNames(ref slotNames);\n",
    "var bagOfWordsCol = transform.GetColumn<VBuffer<float>>(transform.Schema[\"BagOfWords\"]);"
   ],
   "outputs": []
  },
  {
   "cell_type": "code",
   "execution_count": 1,
   "metadata": {},
   "source": [
    "Console.Write(\"NGrams: \");\n",
    "foreach (var row in bagOfWordsCol)\n",
    "    foreach (var item in row.Items())\n",
    "        Console.WriteLine($\"{slotNames.GetValues()[item.Key]}\");"
   ],
   "outputs": []
  },
  {
   "cell_type": "code",
   "execution_count": 1,
   "metadata": {},
   "source": [
    "Console.WriteLine(\"Word counts: \");\n",
    "for (var i = 0; i < predict.BagOfWords.Length; i++)\n",
    "    Console.WriteLine($\"{predict.BagOfWords[i]:F4}\");"
   ],
   "outputs": []
  }
 ],
 "metadata": {
  "kernelspec": {
   "display_name": ".NET (C#)",
   "language": "C#",
   "name": ".net-csharp"
  },
  "language_info": {
   "file_extension": ".cs",
   "mimetype": "text/x-csharp",
   "name": "C#",
   "pygments_lexer": "csharp",
   "version": "8.0"
  }
 },
 "nbformat": 4,
 "nbformat_minor": 4
}