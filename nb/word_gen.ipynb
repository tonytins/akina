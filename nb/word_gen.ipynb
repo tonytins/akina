{
 "cells": [
  {
   "cell_type": "markdown",
   "metadata": {},
   "source": [
    "# Akina Word Generator\n",
    "\n",
    "This is a basic word generator to help speed up creating new words based on my language's current spec."
   ]
  },
  {
   "cell_type": "code",
   "execution_count": 1,
   "metadata": {},
   "source": [
    "using System;\n",
    "using System.Collections.Generic;\n",
    "using System.Linq;"
   ],
   "outputs": []
  },
  {
   "cell_type": "code",
   "execution_count": 1,
   "metadata": {},
   "source": [
    "var constants = \"hdtkmnslw\";\n",
    "var all_vowels = \"aáioóu\";\n",
    "var end_vowels = \"áó\";\n",
    "var base_vowels = \"aiou\";"
   ],
   "outputs": []
  },
  {
   "cell_type": "code",
   "execution_count": 1,
   "metadata": {},
   "source": [
    "string RngLetters(string letters)\n",
    "{\n",
    "    var rng = new Random();\n",
    "    return new string(Enumerable.Repeat(letters, 1)\n",
    "    .Select(s => s[rng.Next(s.Length)]).ToArray());\n",
    "}\n",
    "\n",
    "string CVC(string constants, string vowels)\n",
    "{\n",
    "    return $\"{RngLetters(constants)}{RngLetters(vowels)}{RngLetters(constants)}\";\n",
    "}\n",
    "\n",
    "string CVCVCCV(string constants, string vowels)\n",
    "{\n",
    "    return $\"{RngLetters(constants)}{RngLetters(vowels)}{RngLetters(constants)}\" +\n",
    "    $\"{RngLetters(vowels)}{RngLetters(constants)}{RngLetters(vowels)}{RngLetters(constants)}\";\n",
    "}\n",
    "\n",
    "string CVCV(string constants, string vowels, string end_vowels)\n",
    "{\n",
    "    var rng = new Random();\n",
    "\n",
    "    if (rng.NextDouble() > 0.5)\n",
    "        return $\"{RngLetters(vowels)}{RngLetters(constants)}{RngLetters(end_vowels)}\";\n",
    "\n",
    "    return $\"{RngLetters(constants)}{RngLetters(vowels)}{RngLetters(constants)}{RngLetters(end_vowels)}\";\n",
    "}"
   ],
   "outputs": []
  },
  {
   "cell_type": "code",
   "execution_count": 1,
   "metadata": {},
   "source": [
    "var CVCVCCVtoCVCV = $\"{CVCVCCV(constants, base_vowels)} {CVC(constants, base_vowels)} {CVCV(constants, base_vowels, end_vowels)}\";\n",
    "var CVCtoCVC = $\"{CVC(constants, base_vowels)} {CVCVCCV(constants, base_vowels)} {CVC(constants, base_vowels)}\";\n",
    "Console.WriteLine($\"{CVCVCCVtoCVCV} {CVCtoCVC}\");"
   ],
   "outputs": []
  }
 ],
 "metadata": {
  "kernelspec": {
   "display_name": ".NET (C#)",
   "language": "C#",
   "name": ".net-csharp"
  },
  "language_info": {
   "file_extension": ".cs",
   "mimetype": "text/x-csharp",
   "name": "C#",
   "pygments_lexer": "csharp",
   "version": "8.0"
  }
 },
 "nbformat": 4,
 "nbformat_minor": 4
}