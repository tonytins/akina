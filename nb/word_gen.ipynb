{
 "cells": [
  {
   "cell_type": "markdown",
   "metadata": {},
   "source": [
    "# Akina Word Generator\n",
    "\n",
    "This is a basic word generator to help speed up creating new words based on my language's current spec."
   ]
  },
  {
   "cell_type": "code",
   "execution_count": 1,
   "metadata": {},
   "source": [
    "using System;\n",
    "using System.Collections.Generic;\n",
    "using System.Linq;"
   ],
   "outputs": []
  },
  {
   "cell_type": "code",
   "execution_count": 1,
   "metadata": {},
   "source": [
    "string RngLetters(string letters)\n",
    "{\n",
    "    var rng = new Random();\n",
    "    return new string(Enumerable.Repeat(letters, 1)\n",
    "    .Select(s => s[rng.Next(s.Length)]).ToArray());\n",
    "}\n",
    "\n",
    "string CVC(string constants, string vowels, string midVowels)\n",
    "{\n",
    "    var rng = new Random();\n",
    "\n",
    "    if (rng.NextDouble() > 0.5)\n",
    "        return $\"{RngLetters(constants)}{RngLetters(vowels)}{RngLetters(constants)}\";\n",
    "\n",
    "    return $\"{RngLetters(constants)}{RngLetters(vowels)}{RngLetters(constants)}\";\n",
    "}\n",
    "\n",
    "string CVCVCCV(string constants, string vowels)\n",
    "{\n",
    "    return $\"{RngLetters(constants)}{RngLetters(vowels)}{RngLetters(constants)}\" +\n",
    "    $\"{RngLetters(vowels)}{RngLetters(constants)}{RngLetters(vowels)}{RngLetters(constants)}\";\n",
    "}\n",
    "\n",
    "string CVCV(string constants, string vowels, string endVowels)\n",
    "{\n",
    "    var rng = new Random();\n",
    "\n",
    "    if (rng.NextDouble() > 0.5)\n",
    "        return $\"{RngLetters(vowels)}{RngLetters(constants)}{RngLetters(endVowels)}\";\n",
    "\n",
    "    return $\"{RngLetters(constants)}{RngLetters(vowels)}{RngLetters(constants)}{RngLetters(endVowels)}\";\n",
    "}\n",
    "\n",
    "string CCVVC(string constants, string vowels)\n",
    "{\n",
    "    var rng = new Random();\n",
    "\n",
    "    if (rng.NextDouble() > 0.5)\n",
    "        return $\"{RngLetters(constants)}{RngLetters(constants)}{RngLetters(vowels)}{RngLetters(constants)}{RngLetters(vowels)}{RngLetters(constants)}\";\n",
    "\n",
    "    return $\"{RngLetters(constants)}{RngLetters(vowels)}{RngLetters(constants)}{RngLetters(vowels)}\";\n",
    "}"
   ],
   "outputs": []
  },
  {
   "cell_type": "code",
   "execution_count": 1,
   "metadata": {},
   "source": [
    "var constants = \"hdtkmnslw\";\n",
    "var allVowels = \"aáioóu\";\n",
    "var endVowels = \"áó\";\n",
    "var baseVowels = \"aiou\";\n",
    "var FirstSet = new[] { \n",
    "    CVCV(constants, baseVowels, endVowels),\n",
    "    CVCVCCV(constants, baseVowels), \n",
    "    CCVVC(constants, baseVowels), \n",
    "    CVCV(constants, baseVowels, endVowels),\n",
    "    CCVVC(constants, baseVowels), \n",
    "    CVCVCCV(constants, baseVowels),\n",
    "};\n",
    "var SecondSet = new[] {\n",
    "    CVCV(constants, baseVowels, endVowels),\n",
    "    CCVVC(constants, baseVowels), \n",
    "    CCVVC(constants, baseVowels), \n",
    "    CVCV(constants, baseVowels, endVowels),\n",
    "    CVCVCCV(constants, baseVowels), \n",
    "    CVCVCCV(constants, baseVowels),\n",
    "};"
   ],
   "outputs": []
  },
  {
   "cell_type": "code",
   "execution_count": 1,
   "metadata": {},
   "source": [
    "foreach (var word in FirstSet)\n",
    "    Console.WriteLine(word);"
   ],
   "outputs": [
    {
     "output_type": "execute_result",
     "data": {
      "text/plain": "otá\r\n"
     },
     "execution_count": 1,
     "metadata": {}
    },
    {
     "output_type": "execute_result",
     "data": {
      "text/plain": "kuhokum\r\n"
     },
     "execution_count": 1,
     "metadata": {}
    },
    {
     "output_type": "execute_result",
     "data": {
      "text/plain": "kasa\r\n"
     },
     "execution_count": 1,
     "metadata": {}
    },
    {
     "output_type": "execute_result",
     "data": {
      "text/plain": "dikó\r\n"
     },
     "execution_count": 1,
     "metadata": {}
    },
    {
     "output_type": "execute_result",
     "data": {
      "text/plain": "ldimok\r\n"
     },
     "execution_count": 1,
     "metadata": {}
    },
    {
     "output_type": "execute_result",
     "data": {
      "text/plain": "wonosid\r\n"
     },
     "execution_count": 1,
     "metadata": {}
    }
   ]
  },
  {
   "cell_type": "code",
   "execution_count": 1,
   "metadata": {},
   "source": [
    "foreach (var word in SecondSet)\n",
    "    Console.WriteLine(word);"
   ],
   "outputs": [
    {
     "output_type": "execute_result",
     "data": {
      "text/plain": "latá\r\n"
     },
     "execution_count": 1,
     "metadata": {}
    },
    {
     "output_type": "execute_result",
     "data": {
      "text/plain": "nuha\r\n"
     },
     "execution_count": 1,
     "metadata": {}
    },
    {
     "output_type": "execute_result",
     "data": {
      "text/plain": "koti\r\n"
     },
     "execution_count": 1,
     "metadata": {}
    },
    {
     "output_type": "execute_result",
     "data": {
      "text/plain": "dodó\r\n"
     },
     "execution_count": 1,
     "metadata": {}
    },
    {
     "output_type": "execute_result",
     "data": {
      "text/plain": "nilonat\r\n"
     },
     "execution_count": 1,
     "metadata": {}
    },
    {
     "output_type": "execute_result",
     "data": {
      "text/plain": "towohos\r\n"
     },
     "execution_count": 1,
     "metadata": {}
    }
   ]
  }
 ],
 "metadata": {
  "kernelspec": {
   "display_name": ".NET (C#)",
   "language": "C#",
   "name": ".net-csharp"
  },
  "language_info": {
   "file_extension": ".cs",
   "mimetype": "text/x-csharp",
   "name": "C#",
   "pygments_lexer": "csharp",
   "version": "8.0"
  }
 },
 "nbformat": 4,
 "nbformat_minor": 4
}